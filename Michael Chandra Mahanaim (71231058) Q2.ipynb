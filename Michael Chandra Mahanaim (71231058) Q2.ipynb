{
 "cells": [
  {
   "cell_type": "code",
   "execution_count": 4,
   "id": "15e8ec63-eb00-4579-8985-4ba5fe57bcba",
   "metadata": {},
   "outputs": [
    {
     "name": "stdout",
     "output_type": "stream",
     "text": [
      "Gerard's gold:  25\n",
      "Profit (Nominal): Rp  875000\n",
      "Profit (Percent):  5.384615384615385 %\n",
      "Gerard's total gold:  40\n",
      "New Profit (Nominal): Rp 2075000\n",
      "New Profit (Percent):  7.822808671065033 %\n"
     ]
    }
   ],
   "source": [
    "# Gerard membeli emas 25 gram dengan harga Rp. 650.000/gram.\n",
    "# Jika sekarang harga emas menjadi Rp. 685.000/gram,\n",
    "# • Berapa keuntungan yang didapat oleh Gerard (dalam Rp dan dalam %)?\n",
    "# • Jika Gerard kemudian membeli lagi 15 gram emas dengan harga Rp. 685.000, maka\n",
    "#   Gerard sekarang memiliki total 40 gram emas. Jika kemudian harga emas naik lagi\n",
    "#   menjadi Rp. 715.000, berapa keuntungan yang didapat oleh Gerard (dalam Rp dan dalam%)?\n",
    "\n",
    "#Gold and Prices\n",
    "gg = 25\n",
    "ogp = 650000\n",
    "ngp = 685000\n",
    "\n",
    "#Profit\n",
    "pn = (ngp * gg) - (ogp * gg)\n",
    "pp = float((pn * 100)/(gg * ogp))\n",
    "\n",
    "print(\"Gerard's gold: \", gg)\n",
    "print(\"Profit (Nominal): Rp \",pn)\n",
    "print(\"Profit (Percent): \",pp, \"%\")\n",
    "\n",
    "#Gold Additions and New Prices\n",
    "bgg = 15\n",
    "tgg = gg + bgg\n",
    "lgp = 715000\n",
    "\n",
    "npn = (tgg * lgp) - (gg * ogp) - (bgg * ngp)\n",
    "npp = float((npn*100) / ((gg*ogp)+(bgg*ngp)))\n",
    "\n",
    "print(\"Gerard's total gold: \", tgg)\n",
    "print(\"New Profit (Nominal): Rp\",npn)\n",
    "print(\"New Profit (Percent): \",npp,\"%\")"
   ]
  },
  {
   "cell_type": "code",
   "execution_count": null,
   "id": "25a84d19-c640-42cd-b3a1-759a09442285",
   "metadata": {},
   "outputs": [],
   "source": []
  }
 ],
 "metadata": {
  "kernelspec": {
   "display_name": "Python 3 (ipykernel)",
   "language": "python",
   "name": "python3"
  },
  "language_info": {
   "codemirror_mode": {
    "name": "ipython",
    "version": 3
   },
   "file_extension": ".py",
   "mimetype": "text/x-python",
   "name": "python",
   "nbconvert_exporter": "python",
   "pygments_lexer": "ipython3",
   "version": "3.11.3"
  }
 },
 "nbformat": 4,
 "nbformat_minor": 5
}
