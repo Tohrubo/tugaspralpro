{
 "cells": [
  {
   "cell_type": "code",
   "execution_count": 2,
   "id": "3f029791-c82c-42b3-aa82-717bcc7dae36",
   "metadata": {},
   "outputs": [
    {
     "name": "stdout",
     "output_type": "stream",
     "text": [
      "Uang saat melebihi 400 juta:  429 juta\n",
      "Tahun yang diperlukan:  8\n"
     ]
    }
   ],
   "source": [
    "# jika Erika memiliki uang 200 juta rupiah\n",
    "# dan ingin disimpan di deposito Pasti Cuan\n",
    "# sampai uangnya menjadi minimal 400 juta\n",
    "# berapa lama waktu yang dibutuhkan?\n",
    "# catatan: bunga 10% per-tahun.\n",
    "\n",
    "cm = 200\n",
    "tm = 400\n",
    "itr = 10/100\n",
    "year = 0\n",
    "\n",
    "while cm < 400:\n",
    "    prof = cm * (itr)\n",
    "    cm += prof\n",
    "    year += 1\n",
    "cm = round(cm)\n",
    "\n",
    "print(\"Uang saat melebihi 400 juta: \",cm, \"juta\")\n",
    "print(\"Tahun yang diperlukan: \",year)"
   ]
  },
  {
   "cell_type": "code",
   "execution_count": null,
   "id": "b8430e97-bdd7-4be3-84e8-91afd45d9036",
   "metadata": {},
   "outputs": [],
   "source": []
  }
 ],
 "metadata": {
  "kernelspec": {
   "display_name": "Python 3 (ipykernel)",
   "language": "python",
   "name": "python3"
  },
  "language_info": {
   "codemirror_mode": {
    "name": "ipython",
    "version": 3
   },
   "file_extension": ".py",
   "mimetype": "text/x-python",
   "name": "python",
   "nbconvert_exporter": "python",
   "pygments_lexer": "ipython3",
   "version": "3.11.3"
  }
 },
 "nbformat": 4,
 "nbformat_minor": 5
}
